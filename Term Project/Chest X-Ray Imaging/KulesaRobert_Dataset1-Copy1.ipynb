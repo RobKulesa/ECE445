{
 "cells": [
  {
   "cell_type": "code",
   "execution_count": 1,
   "metadata": {},
   "outputs": [],
   "source": [
    "import os\n",
    "import numpy as np\n",
    "import pandas as pd\n",
    "import cv2\n",
    "\n",
    "from sklearn.decomposition import PCA\n",
    "from sklearn.neighbors import KNeighborsClassifier\n",
    "from sklearn.discriminant_analysis import QuadraticDiscriminantAnalysis\n",
    "from sklearn.naive_bayes import GaussianNB\n",
    "from sklearn.svm import SVC\n",
    "from sklearn.model_selection import cross_val_score\n",
    "import matplotlib.pyplot as plt\n",
    "from sklearn.metrics import classification_report\n",
    "from sklearn.metrics import confusion_matrix\n",
    "from sklearn.metrics import plot_confusion_matrix\n",
    "from sklearn import metrics"
   ]
  },
  {
   "cell_type": "code",
   "execution_count": 2,
   "metadata": {},
   "outputs": [],
   "source": [
    "#Define absolute paths to the 6 subdirectories containing the x-ray images\n",
    "basepath = os.getcwd() + \"\\\\chest_xray\\\\\"\n",
    "\n",
    "testnormal_path = basepath + \"test\\\\NORMAL\\\\\"\n",
    "trainnormal_path = basepath + \"train\\\\NORMAL\\\\\"\n",
    "valnormal_path = basepath + \"val\\\\NORMAL\\\\\"\n",
    "\n",
    "testpneumonia_path = basepath + \"test\\\\PNEUMONIA\\\\\"\n",
    "trainpneumonia_path = basepath + \"train\\\\PNEUMONIA\\\\\"\n",
    "valpneumonia_path = basepath + \"val\\\\PNEUMONIA\\\\\"\n",
    "\n",
    "pathlist = [testnormal_path, trainnormal_path, valnormal_path, testpneumonia_path, trainpneumonia_path, valpneumonia_path]"
   ]
  },
  {
   "cell_type": "code",
   "execution_count": 3,
   "metadata": {},
   "outputs": [],
   "source": [
    "#Get the dataframe holding compressed images for each \n",
    "def get_df(path, dtype, label):\n",
    "    imgs = list()\n",
    "    dirents = os.listdir(path)\n",
    "    for dirent in dirents[0:200]:\n",
    "        img_path = path + \"\\\\\" + dirent\n",
    "        imgs.append((get_img(img_path, resized=True), label))\n",
    "    df = pd.DataFrame(imgs, columns=['image', 'label'])\n",
    "    return df"
   ]
  },
  {
   "cell_type": "code",
   "execution_count": 45,
   "metadata": {},
   "outputs": [],
   "source": [
    "#Return the image matrix as read by opencv python library, either in a compressed form or in its given size.\n",
    "def get_img(path, resized):\n",
    "    img = cv2.imread(path)\n",
    "    if(resized==False):\n",
    "        return img\n",
    "#    return cv2.resize(img, (64, 64), interpolation=cv2.INTER_AREA).reshape(1, -1)\n",
    "    blue,green,red = cv2.split(cv2.resize(img, (500, 500), interpolation=cv2.INTER_AREA))\n",
    "    pca = PCA(30)\n",
    "    blue = pca.fit_transform(blue)\n",
    "    green = pca.fit_transform(green)\n",
    "    red = pca.fit_transform(red)\n",
    "    #plt.imshow((np.dstack((pca.inverse_transform(red), pca.inverse_transform(green), pca.inverse_transform(blue)))).astype(np.uint8))\n",
    "    return (np.dstack((red, green, blue))).reshape(1, -1)"
   ]
  },
  {
   "cell_type": "markdown",
   "metadata": {},
   "source": [
    "### Exploration of Dataset\n",
    "The dataset contains a total of 5856 images across the test, training, and validation sets. All images have labels. \n",
    "Across a sample size of 100 jpeg images in each of the 6 provided directories, the images have an average size of 1126 x 1495 pixels with 3 channels (R, G, B)."
   ]
  },
  {
   "cell_type": "code",
   "execution_count": 5,
   "metadata": {},
   "outputs": [
    {
     "name": "stdout",
     "output_type": "stream",
     "text": [
      "Total number of images: 5856\n",
      "Avg size of images (pixels x pixels x channels): 1126 x 1495 x 3\n"
     ]
    }
   ],
   "source": [
    "heights = []\n",
    "widths = []\n",
    "channels = []\n",
    "num_images = 0\n",
    "for path in pathlist:\n",
    "    dirents = os.listdir(path)\n",
    "    num_images += len(dirents)\n",
    "    for dirent in dirents[0:100]:\n",
    "        img_path = path + \"\\\\\" + dirent\n",
    "        img = get_img(img_path, resized=False)\n",
    "        heights.append(img.shape[0]), widths.append(img.shape[1]), channels.append(img.shape[2])\n",
    "print(f'Total number of images: {num_images:d}')\n",
    "print(f'Avg size of images (pixels x pixels x channels): {np.mean(heights):.0f} x {np.mean(widths):.0f} x {np.mean(channels):.0f}')"
   ]
  },
  {
   "cell_type": "markdown",
   "metadata": {},
   "source": [
    "### Pre-processing & Feature Extraction\n",
    "\n",
    "Using the OpenCV python library, we will convert the jpeg images from the training data into compressed, 128x128 images"
   ]
  },
  {
   "cell_type": "code",
   "execution_count": 46,
   "metadata": {},
   "outputs": [],
   "source": [
    "df_train = get_df(trainnormal_path, 'train', 'NORMAL')\n",
    "df_train = df_train.append(get_df(trainpneumonia_path, 'train', 'PNEUMONIA'))"
   ]
  },
  {
   "cell_type": "code",
   "execution_count": 47,
   "metadata": {},
   "outputs": [],
   "source": [
    "X_train = []\n",
    "y_train = df_train.label\n",
    "for img in df_train.image.values:\n",
    "    X_train.append(img[0])\n",
    "X_train = np.asarray(X_train)"
   ]
  },
  {
   "cell_type": "code",
   "execution_count": 42,
   "metadata": {},
   "outputs": [
    {
     "name": "stdout",
     "output_type": "stream",
     "text": [
      "(1500, 30)\n",
      "(400, 1, 90)\n"
     ]
    }
   ],
   "source": [
    "print(np.shape(df_train['image'][0].values[0]))\n",
    "print(np.shape(X_train))"
   ]
  },
  {
   "cell_type": "code",
   "execution_count": 48,
   "metadata": {},
   "outputs": [],
   "source": [
    "df_test = get_df(testnormal_path, 'test', 'NORMAL')\n",
    "df_test = df_test.append(get_df(testpneumonia_path, 'test', 'PNEUMONIA'))\n",
    "\n",
    "X_test = []\n",
    "y_test = df_test.label\n",
    "for img in df_test.image.values:\n",
    "    X_test.append(img[0])\n",
    "X_test = np.asarray(X_test)"
   ]
  },
  {
   "cell_type": "markdown",
   "metadata": {},
   "source": [
    "### Processing of dataset\n",
    "1. KNN\n",
    "    - Using sklearn's KNeighborsClassifier"
   ]
  },
  {
   "cell_type": "code",
   "execution_count": 49,
   "metadata": {},
   "outputs": [],
   "source": [
    "kvals = [1, 3, 5, 10, 20, 50, 100]\n",
    "acc_list = []\n",
    "for k in kvals:\n",
    "    model = KNeighborsClassifier(n_neighbors=k)\n",
    "    model.fit(X_train, y_train)\n",
    "    test_predictions = model.predict(X_test)\n",
    "    df_test['k=' + str(k)] = test_predictions\n",
    "    acc = metrics.accuracy_score(y_test, test_predictions)\n",
    "    acc_list.append(('k=' + str(k), acc))"
   ]
  },
  {
   "cell_type": "code",
   "execution_count": 50,
   "metadata": {},
   "outputs": [],
   "source": [
    "model = SVC(kernel=\"linear\", C=1)\n",
    "model.fit(X_train, y_train)\n",
    "test_predictions = model.predict(X_test)\n",
    "df_test['SVC'] = test_predictions\n",
    "acc = metrics.accuracy_score(y_test, test_predictions)\n",
    "acc_list.append(('SVC', acc))"
   ]
  },
  {
   "cell_type": "code",
   "execution_count": 51,
   "metadata": {},
   "outputs": [],
   "source": [
    "model = GaussianNB()\n",
    "model.fit(X_train, y_train)\n",
    "test_predictions = model.predict(X_test)\n",
    "df_test['GNB'] = test_predictions\n",
    "acc = metrics.accuracy_score(y_test, test_predictions)\n",
    "acc_list.append(('GNB', acc))"
   ]
  },
  {
   "cell_type": "code",
   "execution_count": 52,
   "metadata": {},
   "outputs": [
    {
     "name": "stdout",
     "output_type": "stream",
     "text": [
      "                                                 image      label        k=1  \\\n",
      "0    [[921.8022066333933, 921.8022066333933, 921.80...     NORMAL  PNEUMONIA   \n",
      "1    [[329.20385025021966, 329.20385025021966, 329....     NORMAL  PNEUMONIA   \n",
      "2    [[-721.6124432160682, -721.6124432160682, -721...     NORMAL  PNEUMONIA   \n",
      "3    [[-143.56643942432686, -143.56643942432686, -1...     NORMAL  PNEUMONIA   \n",
      "4    [[-692.8630967867736, -692.8630967867736, -692...     NORMAL  PNEUMONIA   \n",
      "..                                                 ...        ...        ...   \n",
      "195  [[-250.58686512955728, -250.58686512955728, -2...  PNEUMONIA  PNEUMONIA   \n",
      "196  [[1666.251805690097, 1666.251805690097, 1666.2...  PNEUMONIA  PNEUMONIA   \n",
      "197  [[1138.6491668369342, 1138.6491668369342, 1138...  PNEUMONIA  PNEUMONIA   \n",
      "198  [[-170.45911781609885, -170.45911781609885, -1...  PNEUMONIA  PNEUMONIA   \n",
      "199  [[122.3298192455306, 122.3298192455306, 122.32...  PNEUMONIA  PNEUMONIA   \n",
      "\n",
      "           k=3        k=5       k=10       k=20       k=50      k=100  \\\n",
      "0    PNEUMONIA  PNEUMONIA  PNEUMONIA  PNEUMONIA  PNEUMONIA  PNEUMONIA   \n",
      "1    PNEUMONIA  PNEUMONIA  PNEUMONIA  PNEUMONIA  PNEUMONIA  PNEUMONIA   \n",
      "2    PNEUMONIA  PNEUMONIA  PNEUMONIA  PNEUMONIA  PNEUMONIA  PNEUMONIA   \n",
      "3    PNEUMONIA  PNEUMONIA     NORMAL     NORMAL     NORMAL     NORMAL   \n",
      "4    PNEUMONIA  PNEUMONIA  PNEUMONIA  PNEUMONIA  PNEUMONIA  PNEUMONIA   \n",
      "..         ...        ...        ...        ...        ...        ...   \n",
      "195  PNEUMONIA  PNEUMONIA  PNEUMONIA  PNEUMONIA  PNEUMONIA  PNEUMONIA   \n",
      "196  PNEUMONIA  PNEUMONIA     NORMAL  PNEUMONIA  PNEUMONIA  PNEUMONIA   \n",
      "197  PNEUMONIA  PNEUMONIA  PNEUMONIA  PNEUMONIA  PNEUMONIA  PNEUMONIA   \n",
      "198  PNEUMONIA  PNEUMONIA  PNEUMONIA  PNEUMONIA  PNEUMONIA  PNEUMONIA   \n",
      "199  PNEUMONIA  PNEUMONIA  PNEUMONIA  PNEUMONIA  PNEUMONIA  PNEUMONIA   \n",
      "\n",
      "           SVC        GNB  \n",
      "0    PNEUMONIA     NORMAL  \n",
      "1    PNEUMONIA  PNEUMONIA  \n",
      "2       NORMAL  PNEUMONIA  \n",
      "3    PNEUMONIA  PNEUMONIA  \n",
      "4    PNEUMONIA     NORMAL  \n",
      "..         ...        ...  \n",
      "195  PNEUMONIA  PNEUMONIA  \n",
      "196  PNEUMONIA     NORMAL  \n",
      "197     NORMAL     NORMAL  \n",
      "198     NORMAL  PNEUMONIA  \n",
      "199     NORMAL  PNEUMONIA  \n",
      "\n",
      "[400 rows x 11 columns]\n",
      "[('k=1', 0.62), ('k=3', 0.5925), ('k=5', 0.5925), ('k=10', 0.6125), ('k=20', 0.6125), ('k=50', 0.6225), ('k=100', 0.61), ('SVC', 0.5675), ('GNB', 0.64)]\n"
     ]
    }
   ],
   "source": [
    "print(df_test)\n",
    "print(acc_list)"
   ]
  }
 ],
 "metadata": {
  "kernelspec": {
   "display_name": "Python 3",
   "language": "python",
   "name": "python3"
  },
  "language_info": {
   "codemirror_mode": {
    "name": "ipython",
    "version": 3
   },
   "file_extension": ".py",
   "mimetype": "text/x-python",
   "name": "python",
   "nbconvert_exporter": "python",
   "pygments_lexer": "ipython3",
   "version": "3.8.3"
  }
 },
 "nbformat": 4,
 "nbformat_minor": 4
}
