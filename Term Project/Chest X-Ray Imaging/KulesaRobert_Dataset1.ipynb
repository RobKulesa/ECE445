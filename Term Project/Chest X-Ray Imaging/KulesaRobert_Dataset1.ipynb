{
 "cells": [
  {
   "cell_type": "code",
   "execution_count": 8,
   "metadata": {},
   "outputs": [],
   "source": [
    "import os\n",
    "import numpy as np\n",
    "import pandas as pd\n",
    "import cv2\n",
    "\n",
    "from sklearn.decomposition import PCA\n",
    "from sklearn.neighbors import KNeighborsClassifier\n",
    "from sklearn.discriminant_analysis import QuadraticDiscriminantAnalysis\n",
    "from sklearn.naive_bayes import GaussianNB\n",
    "from sklearn.svm import SVC\n",
    "from sklearn.model_selection import cross_val_score\n",
    "import matplotlib.pyplot as plt\n",
    "from sklearn.metrics import classification_report\n",
    "from sklearn.metrics import confusion_matrix\n",
    "from sklearn.metrics import plot_confusion_matrix\n",
    "from sklearn import metrics"
   ]
  },
  {
   "cell_type": "code",
   "execution_count": 9,
   "metadata": {},
   "outputs": [],
   "source": [
    "#Define absolute paths to the 6 subdirectories containing the x-ray images\n",
    "basepath = os.getcwd() + \"\\\\chest_xray\\\\\"\n",
    "\n",
    "testnormal_path = basepath + \"test\\\\NORMAL\\\\\"\n",
    "trainnormal_path = basepath + \"train\\\\NORMAL\\\\\"\n",
    "valnormal_path = basepath + \"val\\\\NORMAL\\\\\"\n",
    "\n",
    "testpneumonia_path = basepath + \"test\\\\PNEUMONIA\\\\\"\n",
    "trainpneumonia_path = basepath + \"train\\\\PNEUMONIA\\\\\"\n",
    "valpneumonia_path = basepath + \"val\\\\PNEUMONIA\\\\\"\n",
    "\n",
    "pathlist = [testnormal_path, trainnormal_path, valnormal_path, testpneumonia_path, trainpneumonia_path, valpneumonia_path]"
   ]
  },
  {
   "cell_type": "code",
   "execution_count": 10,
   "metadata": {},
   "outputs": [],
   "source": [
    "#Get the dataframe holding compressed, black and white image.\n",
    "def get_df(path, dtype, label, m, n):\n",
    "    imgs = list()\n",
    "    dirents = os.listdir(path)\n",
    "    for dirent in dirents[m:n]:\n",
    "        img_path = path + \"\\\\\" + dirent\n",
    "        imgs.append((get_img(img_path, resized=True, bnw=True), label))\n",
    "    df = pd.DataFrame(imgs, columns=['image', 'label'])\n",
    "    return df"
   ]
  },
  {
   "cell_type": "code",
   "execution_count": 11,
   "metadata": {},
   "outputs": [],
   "source": [
    "#Return the image matrix as read by opencv python library, with optional compression and conversion to black and white.\n",
    "def get_img(path, resized, bnw):\n",
    "    img = cv2.imread(path)\n",
    "    if(resized==False and bnw==False):\n",
    "        return img\n",
    "    if(resized==True and bnw==False):\n",
    "        return cv2.resize(img, (128,128), interpolation=cv2.INTER_AREA)\n",
    "    if(resized==False and bnw==True):\n",
    "        return cv2.cvtColor(img, cv2.COLOR_BGR2GRAY)\n",
    "    return cv2.resize(cv2.cvtColor(img, cv2.COLOR_BGR2GRAY), (128, 128), interpolation=cv2.INTER_AREA).reshape(1, -1)"
   ]
  },
  {
   "cell_type": "markdown",
   "metadata": {},
   "source": [
    "### Exploration of Dataset\n",
    "The dataset contains a total of 5856 images across the test, training, and validation sets. All images have labels. \n",
    "Across a sample size of 100 jpeg images in each of the 6 provided directories, the images have an average size of 1126 x 1495 pixels with 3 channels (R, G, B).\n",
    "\n",
    "As is seen from the histograms below of a randomly selected image in the dataset (compressed to 128x128), the distribution of color intensity in the image is extremely similar, so during feature extraction we will use only black and white versions of the images to reduce complexity."
   ]
  },
  {
   "cell_type": "code",
   "execution_count": 12,
   "metadata": {},
   "outputs": [
    {
     "name": "stdout",
     "output_type": "stream",
     "text": [
      "Total number of images: 5856\n",
      "Avg size of images (pixels x pixels x channels): 1126 x 1495 x 3\n"
     ]
    }
   ],
   "source": [
    "heights = []\n",
    "widths = []\n",
    "channels = []\n",
    "num_images = 0\n",
    "for path in pathlist:\n",
    "    dirents = os.listdir(path)\n",
    "    num_images += len(dirents)\n",
    "    for dirent in dirents[0:100]:\n",
    "        img_path = path + \"\\\\\" + dirent\n",
    "        img = get_img(img_path, resized=False, bnw=False)\n",
    "        heights.append(img.shape[0]), widths.append(img.shape[1]), channels.append(img.shape[2])\n",
    "print(f'Total number of images: {num_images:d}')\n",
    "print(f'Avg size of images (pixels x pixels x channels): {np.mean(heights):.0f} x {np.mean(widths):.0f} x {np.mean(channels):.0f}')"
   ]
  },
  {
   "cell_type": "code",
   "execution_count": 13,
   "metadata": {},
   "outputs": [
    {
     "data": {
      "image/png": "[encoded data removed]",
      "text/plain": [
       "<Figure size 1080x360 with 3 Axes>"
      ]
     },
     "metadata": {
      "needs_background": "light"
     },
     "output_type": "display_data"
    }
   ],
   "source": [
    "img_path = pathlist[np.random.randint(0, 6)]\n",
    "dirents = os.listdir(img_path)\n",
    "img_path = img_path + dirents[np.random.randint(0, len(dirents))]\n",
    "img = get_img(img_path, resized=True, bnw=False)\n",
    "blue,green,red = cv2.split(img)\n",
    "blue = np.ndarray.flatten(blue)\n",
    "green = np.ndarray.flatten(green)\n",
    "red = np.ndarray.flatten(red)\n",
    "\n",
    "fig, axs = plt.subplots(1, 3, figsize=(15,5))\n",
    "fig.suptitle('Color Channel Intensity Distrubitions of a Random Image in Dataset')\n",
    "axs[0].hist(x=blue, bins='auto', color='#0000bb')\n",
    "axs[0].set_ylabel('Number of pixels')\n",
    "axs[0].set_title('Blue Channel Intensity Distribution')\n",
    "axs[1].hist(x=green, bins='auto', color='#00bb00')\n",
    "axs[1].set_title('Green Channel Intensity Distribution')\n",
    "axs[1].set_xlabel('Intensity')\n",
    "axs[2].hist(x=red, bins='auto', color='#bb0000')\n",
    "axs[2].set_title('Red Channel Intensity Distribution')\n",
    "plt.show()"
   ]
  },
  {
   "cell_type": "markdown",
   "metadata": {},
   "source": [
    "### Pre-processing & Feature Extraction\n",
    "\n",
    "Using the OpenCV python library, we will convert 500 of the jpeg images from each the training and test data into compressed, black & white, 128x128 images. The image dataset is already preprocessed and divided into test, training, and validation categories, and all images are labeled. "
   ]
  },
  {
   "cell_type": "code",
   "execution_count": 14,
   "metadata": {},
   "outputs": [],
   "source": [
    "df_train = get_df(trainnormal_path, 'train', 'NORMAL', 0, 500)\n",
    "df_train = df_train.append(get_df(trainpneumonia_path, 'train', 'PNEUMONIA', 0, 500))\n",
    "\n",
    "X_train = []\n",
    "y_train = df_train.label\n",
    "for img in df_train.image.values:\n",
    "    X_train.append(img[0])\n",
    "X_train = np.asarray(X_train)"
   ]
  },
  {
   "cell_type": "code",
   "execution_count": 15,
   "metadata": {},
   "outputs": [],
   "source": [
    "df_test = get_df(testnormal_path, 'test', 'NORMAL', 0, 234)\n",
    "df_test = df_test.append(get_df(testpneumonia_path, 'test', 'PNEUMONIA', 0, 390))\n",
    "\n",
    "X_test = []\n",
    "y_test = df_test.label\n",
    "for img in df_test.image.values:\n",
    "    X_test.append(img[0])\n",
    "X_test = np.asarray(X_test)"
   ]
  },
  {
   "cell_type": "code",
   "execution_count": 16,
   "metadata": {},
   "outputs": [],
   "source": [
    "df_val = get_df(trainnormal_path, 'train', 'NORMAL', 500, 750)\n",
    "df_val = df_val.append(get_df(trainpneumonia_path, 'train', 'PNEUMONIA', 500, 750))\n",
    "valranges = [(0, 60), (60, 120), (120, 180), (240, 300)]\n",
    "df_val = df_val.sample(frac=1).reset_index(drop=True)\n",
    "val_list = []\n",
    "for rng in valranges:\n",
    "    X_val = []\n",
    "    y_val = (df_val[rng[0]:rng[1]].label)\n",
    "    for img in df_val[rng[0]:rng[1]].image.values:\n",
    "        X_val.append(img[0])\n",
    "    val_list.append((np.asarray(X_val), y_val))"
   ]
  },
  {
   "cell_type": "markdown",
   "metadata": {},
   "source": [
    "### Processing of dataset\n",
    "1. KNN\n",
    "    - Using sklearn's KNeighborsClassifier model\n",
    "    - Use k values 1, 3, 5, 10, 20, 50, 100\n",
    "    - Calculate predictions on validation data and select the optimal hyperparameter k\n",
    "    - Run predictions on the test data with the optimal hyperparameter k\n",
    "2. SVC with a linear kernel\n",
    "    - Using sklearn's SVC model\n",
    "    - Use regularization parameter \"c\" values 0.025, 0.05, 0.1, 0.5, 1, 2, 5, 10, 100\n",
    "    - Calculate predictions on validation data and select the optimal hyperparameter c\n",
    "    - Run predictions on the test data with the optimal hyperparameter c\n",
    "3. GNB\n",
    "    - Using sklearn's GaussianNB model\n",
    "    - Calculate predictions on the test data"
   ]
  },
  {
   "cell_type": "code",
   "execution_count": 17,
   "metadata": {},
   "outputs": [],
   "source": [
    "kvals = [1, 3, 5, 10, 20, 50, 100]\n",
    "val_acc_list = []\n",
    "test_acc_list = []\n",
    "for k in kvals:\n",
    "    model = KNeighborsClassifier(n_neighbors=k)\n",
    "    model.fit(X_train, y_train)\n",
    "    count = 1\n",
    "    acc_list_tup_specific = []\n",
    "    for tup in val_list:\n",
    "        val_predictions = model.predict(tup[0])\n",
    "        val_acc = metrics.accuracy_score(tup[1], val_predictions)\n",
    "        acc_list_tup_specific.append(val_acc)\n",
    "        count = count + 1\n",
    "    val_acc_list.append(np.mean(acc_list_tup_specific))\n",
    "optimal_k = kvals[np.argmax(val_acc_list)]\n",
    "model = KNeighborsClassifier(n_neighbors=optimal_k)\n",
    "model.fit(X_train, y_train)\n",
    "test_predictions = model.predict(X_test)\n",
    "df_test['k=' + str(optimal_k)] = test_predictions\n",
    "test_acc = metrics.accuracy_score(y_test, test_predictions)\n",
    "test_acc_list.append(('k=' + str(optimal_k), test_acc))"
   ]
  },
  {
   "cell_type": "code",
   "execution_count": 18,
   "metadata": {},
   "outputs": [],
   "source": [
    "cvals = [0.025, 0.05, 0.1, 0.5, 1, 2, 5, 10, 100]\n",
    "val_acc_list = []\n",
    "for c in cvals:\n",
    "    model = SVC(kernel=\"linear\", C=c)\n",
    "    model.fit(X_train, y_train)\n",
    "    acc_list_tup_specific = []\n",
    "    for tup in val_list:\n",
    "        val_predictions = model.predict(tup[0])\n",
    "        val_acc = metrics.accuracy_score(tup[1], val_predictions)\n",
    "        acc_list_tup_specific.append(val_acc)\n",
    "        count = count + 1\n",
    "    val_acc_list.append(np.mean(acc_list_tup_specific))\n",
    "optimal_c = kvals[np.argmax(val_acc_list)]\n",
    "model = SVC(kernel=\"linear\", C=optimal_c)\n",
    "model.fit(X_train, y_train)\n",
    "test_predictions = model.predict(X_test)\n",
    "df_test['c=' + str(optimal_c)] = test_predictions\n",
    "test_acc = metrics.accuracy_score(y_test, test_predictions)\n",
    "test_acc_list.append(('c=' + str(optimal_c), test_acc))"
   ]
  },
  {
   "cell_type": "code",
   "execution_count": 19,
   "metadata": {},
   "outputs": [],
   "source": [
    "model = GaussianNB()\n",
    "model.fit(X_train, y_train)\n",
    "test_predictions = model.predict(X_test)\n",
    "df_test['GNB'] = test_predictions\n",
    "test_acc = metrics.accuracy_score(y_test, test_predictions)\n",
    "test_acc_list.append(('GNB', test_acc))"
   ]
  },
  {
   "cell_type": "markdown",
   "metadata": {},
   "source": [
    "### Comparative Analysis\n"
   ]
  },
  {
   "cell_type": "code",
   "execution_count": 20,
   "metadata": {},
   "outputs": [],
   "source": [
    "temp = df_test.loc[df_test['k=' + str(optimal_k)] == \"PNEUMONIA\"]\n",
    "KNN_TP = len(temp.loc[temp['label'] == \"PNEUMONIA\"])\n",
    "KNN_FP = len(temp.loc[temp['label'] == \"NORMAL\"])\n",
    "temp = df_test.loc[df_test['k=' + str(optimal_k)] == \"NORMAL\"]\n",
    "KNN_TN = len(temp.loc[temp['label'] == \"NORMAL\"])\n",
    "KNN_FN = len(temp.loc[temp['label'] == \"PNEUMONIA\"])"
   ]
  },
  {
   "cell_type": "code",
   "execution_count": 21,
   "metadata": {},
   "outputs": [],
   "source": [
    "temp = df_test.loc[df_test['c=' + str(optimal_c)] == \"PNEUMONIA\"]\n",
    "SVM_TP = len(temp.loc[temp['label'] == \"PNEUMONIA\"])\n",
    "SVM_FP = len(temp.loc[temp['label'] == \"NORMAL\"])\n",
    "temp = df_test.loc[df_test['c=' + str(optimal_c)] == \"NORMAL\"]\n",
    "SVM_TN = len(temp.loc[temp['label'] == \"NORMAL\"])\n",
    "SVM_FN = len(temp.loc[temp['label'] == \"PNEUMONIA\"])"
   ]
  },
  {
   "cell_type": "code",
   "execution_count": 22,
   "metadata": {},
   "outputs": [],
   "source": [
    "temp = df_test.loc[df_test['GNB'] == \"PNEUMONIA\"]\n",
    "GNB_TP = len(temp.loc[temp['label'] == \"PNEUMONIA\"])\n",
    "GNB_FP = len(temp.loc[temp['label'] == \"NORMAL\"])\n",
    "temp = df_test.loc[df_test['GNB'] == \"NORMAL\"]\n",
    "GNB_TN = len(temp.loc[temp['label'] == \"NORMAL\"])\n",
    "GNB_FN = len(temp.loc[temp['label'] == \"PNEUMONIA\"])"
   ]
  },
  {
   "cell_type": "code",
   "execution_count": 23,
   "metadata": {},
   "outputs": [
    {
     "data": {
      "image/png": "[encoded data removed]",
      "text/plain": [
       "<Figure size 720x576 with 4 Axes>"
      ]
     },
     "metadata": {
      "needs_background": "light"
     },
     "output_type": "display_data"
    },
    {
     "name": "stdout",
     "output_type": "stream",
     "text": [
      "Number of test samples: 624\n",
      "KNN Accuracy: 79.01%\n",
      "SVM Accuracy: 73.88%\n",
      "GNB Accuracy: 72.76%\n"
     ]
    }
   ],
   "source": [
    "num_samples = df_test.shape[0]\n",
    "def autolabel(rects, m, n):\n",
    "    for rect in rects:\n",
    "        height = rect.get_height()\n",
    "        axs[m][n].text(rect.get_x() + rect.get_width()/2., 1*height, '%.2f' % float(height) + str(\"%\"), ha='center', va='bottom')\n",
    "        \n",
    "fig, axs = plt.subplots(2, 2, figsize=(10,8), constrained_layout=True)\n",
    "fig.suptitle('Accuracy Rates for each Classification Method')\n",
    "x = ['KNN', 'SVM', 'GNB']\n",
    "x_pos = [i for i, _ in enumerate(x)]\n",
    "\n",
    "y = [KNN_TP / num_samples * 100, SVM_TP / num_samples * 100, GNB_TP / num_samples * 100]\n",
    "rects0 = axs[0][0].bar(x_pos, y, color=\"#00bb00\")\n",
    "axs[0][0].set_ylabel(\"True Positives\")\n",
    "y = [KNN_FP / num_samples * 100, SVM_FP / num_samples * 100, GNB_FP / num_samples * 100]\n",
    "rects1 = axs[0][1].bar(x_pos, y, color=\"#cccc00\")\n",
    "axs[0][1].set_ylabel(\"False Positives\")\n",
    "y = [KNN_TN / num_samples * 100, SVM_TN / num_samples * 100, GNB_TN / num_samples * 100]\n",
    "rects2 = axs[1][0].bar(x_pos, y, color=\"#ff9900\")\n",
    "axs[1][0].set_ylabel(\"True Negatives\")\n",
    "y = [KNN_FN / num_samples * 100, SVM_FN / num_samples * 100, GNB_FN / num_samples * 100]\n",
    "rects3 = axs[1][1].bar(x_pos, y, color=\"#bb0000\")\n",
    "axs[1][1].set_ylabel(\"False Negatives\")\n",
    "\n",
    "plt.setp(axs, xticks=[0, 1, 2], xticklabels=x)\n",
    "autolabel(rects0, 0, 0)\n",
    "autolabel(rects1, 0, 1)\n",
    "autolabel(rects2, 1, 0)\n",
    "autolabel(rects3, 1, 1)\n",
    "\n",
    "plt.show()\n",
    "\n",
    "print(f'Number of test samples: {num_samples}')\n",
    "print(f'KNN Accuracy: {(KNN_TP + KNN_TN) * 100 / num_samples:.2f}%')\n",
    "print(f'SVM Accuracy: {(SVM_TP + SVM_TN) * 100 / num_samples:.2f}%')\n",
    "print(f'GNB Accuracy: {(GNB_TP + GNB_TN) * 100 / num_samples:.2f}%')"
   ]
  },
  {
   "cell_type": "markdown",
   "metadata": {},
   "source": [
    "The SVM classifier has the highest True Positive rate and lowest False Negative rate of any of the classifiers on this dataset, although the KNN classifier has a similar True Positive and False Negative rates with fewer False Positives. Therefore, optimally, the KNN classifier should be used for production out of these three classifiers. "
   ]
  },
  {
   "cell_type": "markdown",
   "metadata": {},
   "source": [
    "### Ethical Issues\n",
    "There are a few ethical issues that could potentially arise with this task. The first issue is that lungs infected with diseases other than pneumonia could potentially be classified as pneumonia positive, however, such an issue is outside the scope of this task. Another issue that could arise depends on how the x-ray imaging data is collected. The description of the dataset suggests that the x-ray images were taken from pediatric patients as part of routine clinical care. There is evidence which suggests that exposing children to unnecessary radiation can have adverse side effects. In addition, it is not mentioned whether the parents of the patients consented to the release of their child's medical data for research purposes such as this. Future datasets on medical data should make sure to include that the patient or their legal guardian consented to the release of data."
   ]
  },
  {
   "cell_type": "markdown",
   "metadata": {},
   "source": [
    "### Bibliography\n",
    "Mooney, Paul. “Chest X-Ray Images (Pneumonia).” Kaggle, Google, LLC, 24 Mar. 2018, www.kaggle.com/paultimothymooney/chest-xray-pneumonia.\n",
    "\n",
    "N/A, N/A. “OpenCV-Python Tutorials.” OpenCV, Willow Garage, 2020, www.docs.opencv.org/master/d6/d00/tutorial_py_root.html.\n",
    "\n",
    "Varoquaux, Gaël, and Andreas Müller. “Classifier Comparison.” Edited by Jaques Grobler, Scikit-Learn, Scikit-Learn Developers, 2020, www.scikit-learn.org/stable/auto_examples/classification/plot_classifier_comparison.html. "
   ]
  }
 ],
 "metadata": {
  "kernelspec": {
   "display_name": "Python 3",
   "language": "python",
   "name": "python3"
  },
  "language_info": {
   "codemirror_mode": {
    "name": "ipython",
    "version": 3
   },
   "file_extension": ".py",
   "mimetype": "text/x-python",
   "name": "python",
   "nbconvert_exporter": "python",
   "pygments_lexer": "ipython3",
   "version": "3.8.3"
  }
 },
 "nbformat": 4,
 "nbformat_minor": 4
}
